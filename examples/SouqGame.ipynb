{
 "cells": [
  {
   "cell_type": "markdown",
   "metadata": {},
   "source": [
    "# SouqGame backend example notebook"
   ]
  },
  {
   "cell_type": "markdown",
   "metadata": {},
   "source": [
    "### **1. step:** import the SouqGame class"
   ]
  },
  {
   "cell_type": "code",
   "execution_count": 1,
   "metadata": {},
   "outputs": [],
   "source": [
    "from matheUI_backend import SouqGame"
   ]
  },
  {
   "cell_type": "markdown",
   "metadata": {},
   "source": [
    "### **2. step:** create *SouqGame* class object\n",
    "The two parameters **places_folder** and **places_files** will be automatically filled with the variables in **matheUI/config/\\_\\_init\\_\\_.py**\n",
    "\n",
    "You can add more datasets with adding the pickled level dictionary in **places_folder** and add the file name in **places_files** in **matheUI/config/\\_\\_init\\_\\_.py** in **'Custom level'**"
   ]
  },
  {
   "cell_type": "code",
   "execution_count": 2,
   "metadata": {},
   "outputs": [],
   "source": [
    "sg = SouqGame()"
   ]
  },
  {
   "cell_type": "markdown",
   "metadata": {},
   "source": [
    "### **3. step:** get data report"
   ]
  },
  {
   "cell_type": "markdown",
   "metadata": {},
   "source": [
    "get whole report"
   ]
  },
  {
   "cell_type": "code",
   "execution_count": 3,
   "metadata": {},
   "outputs": [
    {
     "name": "stdout",
     "output_type": "stream",
     "text": [
      "level groups: 2\n",
      "    Mittelalter: 6\n",
      "        souq_level_11: 4\n",
      "            Metzger\n",
      "            Farmer\n",
      "            Kuhbesitzer\n",
      "            Schmied\n",
      "        souq_level_12: 4\n",
      "            Soldat\n",
      "            Sammler\n",
      "            Abenteurer\n",
      "            Bibliothekar\n",
      "        souq_level_13: 6\n",
      "            Tischler\n",
      "            Holzfäller\n",
      "            Sammler\n",
      "            Arbeiter\n",
      "            Kupferschmied\n",
      "            Bauer\n",
      "        souq_level_14: 8\n",
      "            Weinhändler\n",
      "            Zauberer\n",
      "            Glaser\n",
      "            Krieger\n",
      "            Bäcker\n",
      "            Metzger\n",
      "            Mörder\n",
      "            Knappe\n",
      "        souq_level_15: 15\n",
      "            Hexe\n",
      "            König\n",
      "            Metzger\n",
      "            Adliger\n",
      "            Hofnarr\n",
      "            Schatzmeister\n",
      "            Priester\n",
      "            Königin\n",
      "            Schamane\n",
      "            Häuptling\n",
      "            Weberin\n",
      "            Mönch\n",
      "            Krieger\n",
      "            Barkeeper\n",
      "            Dieb\n",
      "        souq_level_15_2: 16\n",
      "            Hexe\n",
      "            König\n",
      "            Metzger\n",
      "            Adliger\n",
      "            Hofnarr\n",
      "            Schatzmeister\n",
      "            Priester\n",
      "            Königin\n",
      "            Schamane\n",
      "            Häuptling\n",
      "            Weberin\n",
      "            Mönch\n",
      "            Krieger\n",
      "            Barkeeper\n",
      "            Dieb\n",
      "            Programmierer\n",
      "    Custom level: 0\n"
     ]
    }
   ],
   "source": [
    "sg.data_report()"
   ]
  },
  {
   "cell_type": "markdown",
   "metadata": {},
   "source": [
    "get level groups"
   ]
  },
  {
   "cell_type": "code",
   "execution_count": 4,
   "metadata": {},
   "outputs": [
    {
     "data": {
      "text/plain": [
       "['Mittelalter', 'Custom level']"
      ]
     },
     "execution_count": 4,
     "metadata": {},
     "output_type": "execute_result"
    }
   ],
   "source": [
    "sg.get_level_groups()"
   ]
  },
  {
   "cell_type": "markdown",
   "metadata": {},
   "source": [
    "get level names of level group"
   ]
  },
  {
   "cell_type": "code",
   "execution_count": 5,
   "metadata": {},
   "outputs": [
    {
     "data": {
      "text/plain": [
       "['souq_level_11',\n",
       " 'souq_level_12',\n",
       " 'souq_level_13',\n",
       " 'souq_level_14',\n",
       " 'souq_level_15',\n",
       " 'souq_level_15_2']"
      ]
     },
     "execution_count": 5,
     "metadata": {},
     "output_type": "execute_result"
    }
   ],
   "source": [
    "sg.get_level_names_in_level_group(level_group=\"Mittelalter\")"
   ]
  },
  {
   "cell_type": "markdown",
   "metadata": {},
   "source": [
    "get level dictionary"
   ]
  },
  {
   "cell_type": "code",
   "execution_count": 6,
   "metadata": {},
   "outputs": [
    {
     "data": {
      "text/plain": [
       "{'start_item': 'Kuh',\n",
       " 'end_item': 'Schwert',\n",
       " 'start_pos': 'Farmer',\n",
       " 'data': {'Metzger': {'Schwein': 'Brot und Wurst', 'Pferd': 'Salami'},\n",
       "  'Farmer': {'Kuh_1': 'Schwein', 'Kuh_2': 'Mistgabel'},\n",
       "  'Kuhbesitzer': {'Mistgabel': 'Kuh', 'Salami': 'Kalb'},\n",
       "  'Schmied': {'Kalb': 'Schwert', 'Brot und Wurst': 'Schwert'}},\n",
       " 'equal': []}"
      ]
     },
     "execution_count": 6,
     "metadata": {},
     "output_type": "execute_result"
    }
   ],
   "source": [
    "sg.get_level(level_group=\"Mittelalter\", level_name=\"souq_level_11\")"
   ]
  },
  {
   "cell_type": "markdown",
   "metadata": {},
   "source": [
    "get characters in level"
   ]
  },
  {
   "cell_type": "code",
   "execution_count": 7,
   "metadata": {},
   "outputs": [
    {
     "data": {
      "text/plain": [
       "['Metzger', 'Farmer', 'Kuhbesitzer', 'Schmied']"
      ]
     },
     "execution_count": 7,
     "metadata": {},
     "output_type": "execute_result"
    }
   ],
   "source": [
    "sg.get_characters_in_level(level_group=\"Mittelalter\", level_name=\"souq_level_11\")"
   ]
  },
  {
   "cell_type": "markdown",
   "metadata": {},
   "source": [
    "### **4. step:** change data in class object **(changes not data in data files)**"
   ]
  },
  {
   "cell_type": "markdown",
   "metadata": {},
   "source": [
    "#### **4.1. step:** data changes in class object"
   ]
  },
  {
   "cell_type": "markdown",
   "metadata": {},
   "source": [
    "no data changes intended with class object for now except with adding a level dictionary into the data folder"
   ]
  },
  {
   "cell_type": "code",
   "execution_count": 8,
   "metadata": {},
   "outputs": [
    {
     "name": "stdout",
     "output_type": "stream",
     "text": [
      "no changing of data intended (for now)\n"
     ]
    }
   ],
   "source": [
    "sg.update_data_files()"
   ]
  },
  {
   "cell_type": "markdown",
   "metadata": {},
   "source": [
    "#### **4.2. step:** level dictionary creation"
   ]
  },
  {
   "cell_type": "markdown",
   "metadata": {},
   "source": [
    "**start_item:** item that the player starts with\n",
    "\n",
    "**end_item:** the level ends when the player has this item\n",
    "\n",
    "**start_pos:** character name the player starts (sometimes helpful to trick the player)\n",
    "\n",
    "**data:** dictionary with character and what they trade (for multiple locations list of such dictonaries)\n",
    "\n",
    "- **key-value-form:** '*character_name*': {*trade form*, ...}\n",
    "\n",
    "- **trade-forms:**\n",
    "    - **normal-trade:**\n",
    "    \n",
    "        -> str: str (e.g. 'Holz': 'Tisch')\n",
    "    - **displayed-trade:** first string is displayed, second string is item player gets in inventory\n",
    "\n",
    "        -> str: list[str, str] (e.g. 'Holz': ['\"besonderer\" Tisch', 'kaputter Tisch'])\n",
    "    - **only-if-happy-trade:** trades only if character is happy\n",
    "\n",
    "        -> str: list[any] (*any* can contain a normal-, displayed-, or location-trade) (e.g. 'Holz': ['Tisch'], 'Holz': [['\"besonderer\" Tisch', 'kaputter Tisch']], ...)\n",
    "    - **make-happy-trade:** trading gives player 'nichts' as item and makes character happy on position int (useful if needs multiple trades for complete happy)\n",
    "\n",
    "        -> str: list[[*displayed text*, int], \"nichts\"] (e.g. 'Schokolade': [[\"glücklich\", 0], \"nichts\"])\n",
    "    - **location-trade:** trade changes location of player and item keeps the same (\"\\*\" means the current inventory does not matter)\n",
    "\n",
    "        -> \"\\*\": list[*displayed text*, [int, *character name*]] (*int* is the position in the data list the player is send to and *character name* the character inside this new location) (e.g. '\\*': [\"Ortszauber\", [1, \"Schamane\"]])\n",
    "\n",
    "    - **NOTE:** if you want to create multiple options for one item and the same character (e.g. 'Kuh': 'Mistgabel' and 'Kuh': 'Schwein'), you have to add \"_1\" and \"_2\" so that the dictionary keys are unique again (the underscore numbers will not be displayed and are just for internal operations)\n",
    "\n",
    "**equal:** list of item tuples that are for trading equal (e.g. (\"Stock\", \"Kampfstab\"))"
   ]
  },
  {
   "cell_type": "code",
   "execution_count": null,
   "metadata": {},
   "outputs": [],
   "source": [
    "SouqGame.build_level(...)"
   ]
  },
  {
   "cell_type": "markdown",
   "metadata": {},
   "source": [
    "### **5. step:** generate round"
   ]
  },
  {
   "cell_type": "markdown",
   "metadata": {},
   "source": [
    "generates SouqGameLevel class object for managing the level"
   ]
  },
  {
   "cell_type": "code",
   "execution_count": 9,
   "metadata": {},
   "outputs": [],
   "source": [
    "level = sg.generate_round(level_group=\"Mittelalter\", level_name=\"souq_level_11\")"
   ]
  },
  {
   "cell_type": "markdown",
   "metadata": {},
   "source": [
    "#### **5.1. step:** get current player variables"
   ]
  },
  {
   "cell_type": "markdown",
   "metadata": {},
   "source": [
    "current character name"
   ]
  },
  {
   "cell_type": "code",
   "execution_count": 10,
   "metadata": {},
   "outputs": [
    {
     "data": {
      "text/plain": [
       "'Farmer'"
      ]
     },
     "execution_count": 10,
     "metadata": {},
     "output_type": "execute_result"
    }
   ],
   "source": [
    "level.pos"
   ]
  },
  {
   "cell_type": "markdown",
   "metadata": {},
   "source": [
    "current location"
   ]
  },
  {
   "cell_type": "code",
   "execution_count": 11,
   "metadata": {},
   "outputs": [
    {
     "data": {
      "text/plain": [
       "0"
      ]
     },
     "execution_count": 11,
     "metadata": {},
     "output_type": "execute_result"
    }
   ],
   "source": [
    "level.location"
   ]
  },
  {
   "cell_type": "markdown",
   "metadata": {},
   "source": [
    "number of locations"
   ]
  },
  {
   "cell_type": "code",
   "execution_count": 12,
   "metadata": {},
   "outputs": [
    {
     "data": {
      "text/plain": [
       "1"
      ]
     },
     "execution_count": 12,
     "metadata": {},
     "output_type": "execute_result"
    }
   ],
   "source": [
    "level.location_number"
   ]
  },
  {
   "cell_type": "markdown",
   "metadata": {},
   "source": [
    "characters in current location"
   ]
  },
  {
   "cell_type": "code",
   "execution_count": 13,
   "metadata": {},
   "outputs": [
    {
     "data": {
      "text/plain": [
       "['Metzger', 'Farmer', 'Kuhbesitzer', 'Schmied']"
      ]
     },
     "execution_count": 13,
     "metadata": {},
     "output_type": "execute_result"
    }
   ],
   "source": [
    "level.get_current_characters()"
   ]
  },
  {
   "cell_type": "markdown",
   "metadata": {},
   "source": [
    "current item in inventory"
   ]
  },
  {
   "cell_type": "code",
   "execution_count": 14,
   "metadata": {},
   "outputs": [
    {
     "data": {
      "text/plain": [
       "'Kuh'"
      ]
     },
     "execution_count": 14,
     "metadata": {},
     "output_type": "execute_result"
    }
   ],
   "source": [
    "level.inventory"
   ]
  },
  {
   "cell_type": "markdown",
   "metadata": {},
   "source": [
    "end item"
   ]
  },
  {
   "cell_type": "code",
   "execution_count": 15,
   "metadata": {},
   "outputs": [
    {
     "data": {
      "text/plain": [
       "'Schwert'"
      ]
     },
     "execution_count": 15,
     "metadata": {},
     "output_type": "execute_result"
    }
   ],
   "source": [
    "level.end_item"
   ]
  },
  {
   "cell_type": "markdown",
   "metadata": {},
   "source": [
    "current character trades\n",
    "\n",
    "- first item is what the character wants \n",
    "- second item is the description of the item you get (description does not have to match actual item you get)"
   ]
  },
  {
   "cell_type": "code",
   "execution_count": 16,
   "metadata": {},
   "outputs": [
    {
     "data": {
      "text/plain": [
       "[('Kuh', 'Schwein'), ('Kuh', 'Mistgabel')]"
      ]
     },
     "execution_count": 16,
     "metadata": {},
     "output_type": "execute_result"
    }
   ],
   "source": [
    "level.get_current_position_trades()"
   ]
  },
  {
   "cell_type": "markdown",
   "metadata": {},
   "source": [
    "current character happiness\n",
    "\n",
    "- empty list means that the character has no *makes-happy-trades*\n",
    "- otherwise it has for every *makes-happy-trades* a bool inside the list"
   ]
  },
  {
   "cell_type": "code",
   "execution_count": 17,
   "metadata": {},
   "outputs": [
    {
     "data": {
      "text/plain": [
       "[]"
      ]
     },
     "execution_count": 17,
     "metadata": {},
     "output_type": "execute_result"
    }
   ],
   "source": [
    "level.get_current_character_happiness()"
   ]
  },
  {
   "cell_type": "markdown",
   "metadata": {},
   "source": [
    "current character *SouqGameCharacter* class object"
   ]
  },
  {
   "cell_type": "code",
   "execution_count": 18,
   "metadata": {},
   "outputs": [
    {
     "data": {
      "text/plain": [
       "<matheUI_backend.souqgame_character.SouqGameCharacter at 0x7fab112ec910>"
      ]
     },
     "execution_count": 18,
     "metadata": {},
     "output_type": "execute_result"
    }
   ],
   "source": [
    "level.get_current_character()"
   ]
  },
  {
   "cell_type": "markdown",
   "metadata": {},
   "source": [
    "#### **5.2. step:** move"
   ]
  },
  {
   "cell_type": "markdown",
   "metadata": {},
   "source": [
    "move forwards"
   ]
  },
  {
   "cell_type": "code",
   "execution_count": 19,
   "metadata": {},
   "outputs": [],
   "source": [
    "level.move_forward()"
   ]
  },
  {
   "cell_type": "code",
   "execution_count": 20,
   "metadata": {},
   "outputs": [
    {
     "data": {
      "text/plain": [
       "'Kuhbesitzer'"
      ]
     },
     "execution_count": 20,
     "metadata": {},
     "output_type": "execute_result"
    }
   ],
   "source": [
    "level.pos"
   ]
  },
  {
   "cell_type": "markdown",
   "metadata": {},
   "source": [
    "move backwards"
   ]
  },
  {
   "cell_type": "code",
   "execution_count": 21,
   "metadata": {},
   "outputs": [],
   "source": [
    "level.move_backwards()\n",
    "level.move_backwards()"
   ]
  },
  {
   "cell_type": "code",
   "execution_count": 22,
   "metadata": {},
   "outputs": [
    {
     "data": {
      "text/plain": [
       "'Metzger'"
      ]
     },
     "execution_count": 22,
     "metadata": {},
     "output_type": "execute_result"
    }
   ],
   "source": [
    "level.pos"
   ]
  },
  {
   "cell_type": "markdown",
   "metadata": {},
   "source": [
    "check if current character is first or last in list\n",
    "\n",
    "- can be useful if you do not want that the player can move in a circle through the characters (maybe easier to play)"
   ]
  },
  {
   "cell_type": "code",
   "execution_count": 23,
   "metadata": {},
   "outputs": [
    {
     "data": {
      "text/plain": [
       "True"
      ]
     },
     "execution_count": 23,
     "metadata": {},
     "output_type": "execute_result"
    }
   ],
   "source": [
    "level.is_first_or_last_character()"
   ]
  },
  {
   "cell_type": "code",
   "execution_count": 24,
   "metadata": {},
   "outputs": [
    {
     "name": "stdout",
     "output_type": "stream",
     "text": [
      "Farmer\n"
     ]
    },
    {
     "data": {
      "text/plain": [
       "False"
      ]
     },
     "execution_count": 24,
     "metadata": {},
     "output_type": "execute_result"
    }
   ],
   "source": [
    "level.move_forward()\n",
    "print(level.pos)\n",
    "level.is_first_or_last_character()"
   ]
  },
  {
   "cell_type": "markdown",
   "metadata": {},
   "source": [
    "#### **5.3. step:** trading"
   ]
  },
  {
   "cell_type": "markdown",
   "metadata": {},
   "source": [
    "trade your current inventory item with a character\n",
    "\n",
    "multiple outputs possible:\n",
    "- 2: successful location swap\n",
    "- 1: successfully traded\n",
    "- 0: level finished\n",
    "- -1: character does not trade this item\n",
    "- -2: character needs to be happy for this trade"
   ]
  },
  {
   "cell_type": "code",
   "execution_count": 25,
   "metadata": {},
   "outputs": [
    {
     "data": {
      "text/plain": [
       "[('Kuh', 'Schwein'), ('Kuh', 'Mistgabel')]"
      ]
     },
     "execution_count": 25,
     "metadata": {},
     "output_type": "execute_result"
    }
   ],
   "source": [
    "level.get_current_position_trades()"
   ]
  },
  {
   "cell_type": "markdown",
   "metadata": {},
   "source": [
    "parameter of trade method is the position in the *current_position_trades* list"
   ]
  },
  {
   "cell_type": "code",
   "execution_count": 26,
   "metadata": {},
   "outputs": [
    {
     "data": {
      "text/plain": [
       "1"
      ]
     },
     "execution_count": 26,
     "metadata": {},
     "output_type": "execute_result"
    }
   ],
   "source": [
    "level.trade(0)"
   ]
  },
  {
   "cell_type": "code",
   "execution_count": 27,
   "metadata": {},
   "outputs": [
    {
     "data": {
      "text/plain": [
       "'Schwein'"
      ]
     },
     "execution_count": 27,
     "metadata": {},
     "output_type": "execute_result"
    }
   ],
   "source": [
    "level.inventory"
   ]
  },
  {
   "cell_type": "code",
   "execution_count": 28,
   "metadata": {},
   "outputs": [
    {
     "data": {
      "text/plain": [
       "-1"
      ]
     },
     "execution_count": 28,
     "metadata": {},
     "output_type": "execute_result"
    }
   ],
   "source": [
    "level.trade(0)"
   ]
  },
  {
   "cell_type": "markdown",
   "metadata": {},
   "source": [
    "check if item is in inventory\n",
    "\n",
    "-> also checks if item is \"\\*\" or *equal* to inventory item"
   ]
  },
  {
   "cell_type": "code",
   "execution_count": 29,
   "metadata": {},
   "outputs": [
    {
     "data": {
      "text/plain": [
       "True"
      ]
     },
     "execution_count": 29,
     "metadata": {},
     "output_type": "execute_result"
    }
   ],
   "source": [
    "level.is_in_inventory(\"Schwein\")"
   ]
  },
  {
   "cell_type": "code",
   "execution_count": 30,
   "metadata": {},
   "outputs": [
    {
     "data": {
      "text/plain": [
       "False"
      ]
     },
     "execution_count": 30,
     "metadata": {},
     "output_type": "execute_result"
    }
   ],
   "source": [
    "level.is_in_inventory(\"Kuh\")"
   ]
  },
  {
   "cell_type": "code",
   "execution_count": null,
   "metadata": {},
   "outputs": [],
   "source": []
  }
 ],
 "metadata": {
  "kernelspec": {
   "display_name": "Python 3.9.7 ('matheUI')",
   "language": "python",
   "name": "python3"
  },
  "language_info": {
   "codemirror_mode": {
    "name": "ipython",
    "version": 3
   },
   "file_extension": ".py",
   "mimetype": "text/x-python",
   "name": "python",
   "nbconvert_exporter": "python",
   "pygments_lexer": "ipython3",
   "version": "3.9.7"
  },
  "orig_nbformat": 4,
  "vscode": {
   "interpreter": {
    "hash": "cddb13ca4df519c387c157a706d1fec0a138ef896c1d104b4410bf1686d29ec6"
   }
  }
 },
 "nbformat": 4,
 "nbformat_minor": 2
}
