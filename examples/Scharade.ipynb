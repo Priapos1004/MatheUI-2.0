{
 "cells": [
  {
   "cell_type": "markdown",
   "metadata": {},
   "source": [
    "# Scharade backend example notebook"
   ]
  },
  {
   "cell_type": "markdown",
   "metadata": {},
   "source": [
    "### **1. step:** import *Scharade* class"
   ]
  },
  {
   "cell_type": "code",
   "execution_count": 1,
   "metadata": {},
   "outputs": [],
   "source": [
    "from matheUI_backend import Scharade"
   ]
  },
  {
   "cell_type": "markdown",
   "metadata": {},
   "source": [
    "### **2. step:** create *Scharade* class object\n",
    "The two parameters **data_folder_path** and **data_files** will be automatically filled with the variables in **matheUI/config/\\_\\_init\\_\\_.py**\n",
    "\n",
    "You can add more datasets with adding the csv files in **data_folder_path** and add the file name in **data_files** in **matheUI/config/\\_\\_init\\_\\_.py**"
   ]
  },
  {
   "cell_type": "code",
   "execution_count": 2,
   "metadata": {},
   "outputs": [],
   "source": [
    "scharade = Scharade()"
   ]
  },
  {
   "cell_type": "markdown",
   "metadata": {},
   "source": [
    "### **3. step:** get data report"
   ]
  },
  {
   "cell_type": "markdown",
   "metadata": {},
   "source": [
    "whole data"
   ]
  },
  {
   "cell_type": "code",
   "execution_count": 3,
   "metadata": {},
   "outputs": [
    {
     "name": "stdout",
     "output_type": "stream",
     "text": [
      "data contains ['standard'] scharade sets\n",
      "    standard:\n",
      "        total words: 1290\n",
      "        words per difficulty:\n",
      "            diff 1: 276\n",
      "            diff 2: 503\n",
      "            diff 4: 367\n",
      "            diff 8: 131\n",
      "            diff 16: 13\n"
     ]
    }
   ],
   "source": [
    "scharade.data_report()"
   ]
  },
  {
   "cell_type": "markdown",
   "metadata": {},
   "source": [
    "get word sets"
   ]
  },
  {
   "cell_type": "code",
   "execution_count": 4,
   "metadata": {},
   "outputs": [
    {
     "data": {
      "text/plain": [
       "['standard']"
      ]
     },
     "execution_count": 4,
     "metadata": {},
     "output_type": "execute_result"
    }
   ],
   "source": [
    "scharade.get_sets()"
   ]
  },
  {
   "cell_type": "markdown",
   "metadata": {},
   "source": [
    "get words dataframe"
   ]
  },
  {
   "cell_type": "code",
   "execution_count": 5,
   "metadata": {},
   "outputs": [
    {
     "data": {
      "text/html": [
       "<div>\n",
       "<style scoped>\n",
       "    .dataframe tbody tr th:only-of-type {\n",
       "        vertical-align: middle;\n",
       "    }\n",
       "\n",
       "    .dataframe tbody tr th {\n",
       "        vertical-align: top;\n",
       "    }\n",
       "\n",
       "    .dataframe thead th {\n",
       "        text-align: right;\n",
       "    }\n",
       "</style>\n",
       "<table border=\"1\" class=\"dataframe\">\n",
       "  <thead>\n",
       "    <tr style=\"text-align: right;\">\n",
       "      <th></th>\n",
       "      <th>WORD</th>\n",
       "      <th>DIFFICULTY</th>\n",
       "    </tr>\n",
       "  </thead>\n",
       "  <tbody>\n",
       "    <tr>\n",
       "      <th>0</th>\n",
       "      <td>Aal</td>\n",
       "      <td>2</td>\n",
       "    </tr>\n",
       "    <tr>\n",
       "      <th>1</th>\n",
       "      <td>Abgase</td>\n",
       "      <td>2</td>\n",
       "    </tr>\n",
       "    <tr>\n",
       "      <th>2</th>\n",
       "      <td>Abitur</td>\n",
       "      <td>2</td>\n",
       "    </tr>\n",
       "    <tr>\n",
       "      <th>3</th>\n",
       "      <td>Ablauf</td>\n",
       "      <td>2</td>\n",
       "    </tr>\n",
       "    <tr>\n",
       "      <th>4</th>\n",
       "      <td>Ablufthaube</td>\n",
       "      <td>4</td>\n",
       "    </tr>\n",
       "    <tr>\n",
       "      <th>...</th>\n",
       "      <td>...</td>\n",
       "      <td>...</td>\n",
       "    </tr>\n",
       "    <tr>\n",
       "      <th>1285</th>\n",
       "      <td>überschlagen</td>\n",
       "      <td>1</td>\n",
       "    </tr>\n",
       "    <tr>\n",
       "      <th>1286</th>\n",
       "      <td>übertreiben</td>\n",
       "      <td>1</td>\n",
       "    </tr>\n",
       "    <tr>\n",
       "      <th>1287</th>\n",
       "      <td>α-Strahlung</td>\n",
       "      <td>8</td>\n",
       "    </tr>\n",
       "    <tr>\n",
       "      <th>1288</th>\n",
       "      <td>β-Strahlung</td>\n",
       "      <td>8</td>\n",
       "    </tr>\n",
       "    <tr>\n",
       "      <th>1289</th>\n",
       "      <td>γ-Strahlung</td>\n",
       "      <td>8</td>\n",
       "    </tr>\n",
       "  </tbody>\n",
       "</table>\n",
       "<p>1290 rows × 2 columns</p>\n",
       "</div>"
      ],
      "text/plain": [
       "              WORD  DIFFICULTY\n",
       "0              Aal           2\n",
       "1           Abgase           2\n",
       "2           Abitur           2\n",
       "3           Ablauf           2\n",
       "4      Ablufthaube           4\n",
       "...            ...         ...\n",
       "1285  überschlagen           1\n",
       "1286   übertreiben           1\n",
       "1287   α-Strahlung           8\n",
       "1288   β-Strahlung           8\n",
       "1289   γ-Strahlung           8\n",
       "\n",
       "[1290 rows x 2 columns]"
      ]
     },
     "execution_count": 5,
     "metadata": {},
     "output_type": "execute_result"
    }
   ],
   "source": [
    "scharade.get_df(\"standard\")"
   ]
  },
  {
   "cell_type": "markdown",
   "metadata": {},
   "source": [
    "get difficulty of word"
   ]
  },
  {
   "cell_type": "code",
   "execution_count": 6,
   "metadata": {},
   "outputs": [
    {
     "data": {
      "text/plain": [
       "2"
      ]
     },
     "execution_count": 6,
     "metadata": {},
     "output_type": "execute_result"
    }
   ],
   "source": [
    "scharade.get_difficulty_of_word(\"standard\", \"Aal\")"
   ]
  },
  {
   "cell_type": "markdown",
   "metadata": {},
   "source": [
    "get words with difficulty"
   ]
  },
  {
   "cell_type": "code",
   "execution_count": 7,
   "metadata": {},
   "outputs": [
    {
     "data": {
      "text/plain": [
       "['Akkorde',\n",
       " 'Aladin',\n",
       " 'Apfel',\n",
       " 'Aufladekabel',\n",
       " 'Aufstand',\n",
       " 'Augenlieder',\n",
       " 'Backblech',\n",
       " 'Bart',\n",
       " 'Basketballkorb',\n",
       " 'Baum',\n",
       " 'Biber',\n",
       " 'Bierkrug',\n",
       " 'Bild',\n",
       " 'Bildschirm',\n",
       " 'Blumenkind',\n",
       " 'Blumenstrauß',\n",
       " 'Box',\n",
       " 'Boxen',\n",
       " 'Bratwurst',\n",
       " 'Buch',\n",
       " 'Butler',\n",
       " 'Bürste',\n",
       " 'Chemie',\n",
       " 'Chemiker',\n",
       " 'Chilli',\n",
       " 'Crepes',\n",
       " 'DJ',\n",
       " 'Dauerwelle',\n",
       " 'Degen',\n",
       " 'Deo',\n",
       " 'Dirigent',\n",
       " 'Drache',\n",
       " 'Drogen',\n",
       " 'Dusche',\n",
       " 'E-Scooter',\n",
       " 'Einhorn',\n",
       " 'Eis',\n",
       " 'Elefant',\n",
       " 'Engel',\n",
       " 'Fahrrad',\n",
       " 'Fahrradlicht',\n",
       " 'Fenster',\n",
       " 'Fernbedinung',\n",
       " 'Feuerlöscher',\n",
       " 'Feuerzeug',\n",
       " 'Fingerschnipsen',\n",
       " 'Fliege',\n",
       " 'Flipchart',\n",
       " 'Flugzeug',\n",
       " 'Fuß',\n",
       " 'Fußabtreter',\n",
       " 'Föhn',\n",
       " 'Gehirn',\n",
       " 'Gel',\n",
       " 'Geld',\n",
       " 'Gießkanne',\n",
       " 'Giraffe',\n",
       " 'Gitter',\n",
       " 'Glatze',\n",
       " 'Glühbirne',\n",
       " 'Glühwein',\n",
       " 'Gorilla',\n",
       " 'Haare',\n",
       " 'Halsband',\n",
       " 'Hand',\n",
       " 'Handball',\n",
       " 'Handbremse',\n",
       " 'Handstand',\n",
       " 'Handtasche',\n",
       " 'Handtuch',\n",
       " 'Hantel',\n",
       " 'Harry Potter',\n",
       " 'Hase',\n",
       " 'Headset',\n",
       " 'Heft',\n",
       " 'Helm',\n",
       " 'Henker',\n",
       " 'Hochkant',\n",
       " 'Hocker',\n",
       " 'Horror',\n",
       " 'Hose',\n",
       " 'Jojo',\n",
       " 'Kamm',\n",
       " 'Kampf',\n",
       " 'Katapult',\n",
       " 'Kaugummi',\n",
       " 'Kegel',\n",
       " 'Kerze',\n",
       " 'Kino',\n",
       " 'Kissenbezug',\n",
       " 'Kissenschlacht',\n",
       " 'Klarinette',\n",
       " 'Klavier',\n",
       " 'Kleiderbügel',\n",
       " 'Klingel',\n",
       " 'Klopapier',\n",
       " 'Knopf',\n",
       " 'Kopftuch',\n",
       " 'Krabbe',\n",
       " 'Krampf',\n",
       " 'Kuckkuck',\n",
       " 'Kugel',\n",
       " 'Kunst',\n",
       " 'Kuscheltier',\n",
       " 'La Ola Welle',\n",
       " 'Lampe',\n",
       " 'Lappen',\n",
       " 'Laserschwert',\n",
       " 'Lesebrille',\n",
       " 'Liebe',\n",
       " 'Links',\n",
       " 'Loch',\n",
       " 'Lotussitz',\n",
       " 'Luftpumpe',\n",
       " 'Lunge',\n",
       " 'Läuse',\n",
       " 'Löffel',\n",
       " 'Lücke',\n",
       " 'Maske',\n",
       " 'Meerjungfrau',\n",
       " 'Mitleid',\n",
       " 'Mund',\n",
       " 'Musik',\n",
       " 'Mücke',\n",
       " 'Mülltonne',\n",
       " 'Mütze',\n",
       " 'Nase',\n",
       " 'Nunchaku',\n",
       " 'Opersänger',\n",
       " 'Orangensaft',\n",
       " 'Oval',\n",
       " 'PC',\n",
       " 'Parfüm',\n",
       " 'Partner',\n",
       " 'Pfeffer',\n",
       " 'Pferd',\n",
       " 'Pferdeschwanz',\n",
       " 'Pinguin',\n",
       " 'Pipette',\n",
       " 'Pistole',\n",
       " 'Pizza',\n",
       " 'Pony',\n",
       " 'Popcorn',\n",
       " 'Quadrat',\n",
       " 'Quartett',\n",
       " 'Querflöte',\n",
       " 'Querformat',\n",
       " 'Radiergummi',\n",
       " 'Rahmen',\n",
       " 'Rammbock',\n",
       " 'Rasierer',\n",
       " 'Reagenzglas',\n",
       " 'Rebellion',\n",
       " 'Reißverschluss',\n",
       " 'Revolution',\n",
       " 'Riese',\n",
       " 'Ring',\n",
       " 'Ringelschwänzchen',\n",
       " 'Rollator',\n",
       " 'Rolle',\n",
       " 'Roller',\n",
       " 'Rose',\n",
       " 'Rosenhecke',\n",
       " 'Rucksack',\n",
       " 'Rüherei',\n",
       " 'Salz',\n",
       " 'Saxophon',\n",
       " 'Schal',\n",
       " 'Schalter',\n",
       " 'Schatten',\n",
       " 'Schere',\n",
       " 'Schiebetür',\n",
       " 'Schild',\n",
       " 'Schlagring',\n",
       " 'Schlagstock',\n",
       " 'Schlagzeug',\n",
       " 'Schlange',\n",
       " 'Schlüsselloch',\n",
       " 'Schneewitchen',\n",
       " 'Schnurrbart',\n",
       " 'Schnürrsenkel',\n",
       " 'Schrottflinte',\n",
       " 'Sechseck',\n",
       " 'Seife',\n",
       " 'Seifenblasen',\n",
       " 'Seil',\n",
       " 'Silvester',\n",
       " 'Skalpell',\n",
       " 'Skateboard',\n",
       " 'Socke',\n",
       " 'Star Trek',\n",
       " 'Star Wars',\n",
       " 'Statue',\n",
       " 'Staubsauger',\n",
       " 'Streichholz',\n",
       " 'Strich',\n",
       " 'Swing',\n",
       " 'Tal',\n",
       " 'Tanz',\n",
       " 'Tasche',\n",
       " 'Tastatur',\n",
       " 'Teufel',\n",
       " 'Ticket',\n",
       " 'Tiger',\n",
       " 'Toilette',\n",
       " 'Topmodel',\n",
       " 'Trainer',\n",
       " 'Trapez',\n",
       " 'Trauzeuge',\n",
       " 'Trompete',\n",
       " 'Turm',\n",
       " 'Uhr',\n",
       " 'Umhang',\n",
       " 'Urkunde',\n",
       " 'Urmensch',\n",
       " 'Vampir',\n",
       " 'Viereck',\n",
       " 'Vogel',\n",
       " 'Vollbart',\n",
       " 'Volleyballnetz',\n",
       " 'Vorspiel',\n",
       " 'Vorwurf',\n",
       " 'Waschbecken',\n",
       " 'Wasser',\n",
       " 'Wasserball',\n",
       " 'Wassermann',\n",
       " 'Wecker',\n",
       " 'Weihnachtsmütze',\n",
       " 'Wein',\n",
       " 'Weinglas',\n",
       " 'Welle',\n",
       " 'Werwolf',\n",
       " 'Weste',\n",
       " 'Windrad',\n",
       " 'Wäscheklammer',\n",
       " 'Wäscheleine',\n",
       " 'Yoga',\n",
       " 'Zahn',\n",
       " 'Zahnbürste',\n",
       " 'Zahnpasta',\n",
       " 'Zahnrad',\n",
       " 'Zauberwürfel',\n",
       " 'Zeitschleife',\n",
       " 'Zeitung',\n",
       " 'Ziegenbart',\n",
       " 'Ziel',\n",
       " 'Zombie',\n",
       " 'Zucker',\n",
       " 'Zyklop',\n",
       " 'Zylinder',\n",
       " 'abschätzen',\n",
       " 'angeben',\n",
       " 'besoffen',\n",
       " 'entern',\n",
       " 'fröhlich',\n",
       " 'goldene 20er',\n",
       " 'kochen',\n",
       " 'lesen',\n",
       " 'melanchonisch',\n",
       " 'mobben',\n",
       " 'oben',\n",
       " 'rechts',\n",
       " 'reiten',\n",
       " 'rund',\n",
       " 'sieben',\n",
       " 'stehen',\n",
       " 'steppen',\n",
       " 'treten',\n",
       " 'unten',\n",
       " 'verstrahlt',\n",
       " 'zentriert',\n",
       " 'zocken',\n",
       " 'ärgern',\n",
       " 'überlegen',\n",
       " 'überschlagen',\n",
       " 'übertreiben']"
      ]
     },
     "execution_count": 7,
     "metadata": {},
     "output_type": "execute_result"
    }
   ],
   "source": [
    "scharade.get_words_of_difficulty(\"standard\", 1)"
   ]
  },
  {
   "cell_type": "markdown",
   "metadata": {},
   "source": [
    "get words with initial letter"
   ]
  },
  {
   "cell_type": "code",
   "execution_count": 8,
   "metadata": {},
   "outputs": [
    {
     "data": {
      "text/plain": [
       "['CD',\n",
       " 'Cabrio',\n",
       " 'Camouflage',\n",
       " 'Charts',\n",
       " 'Chat',\n",
       " 'Chemie',\n",
       " 'Chemiker',\n",
       " 'Chilli',\n",
       " 'Choreografie',\n",
       " 'Clanchef',\n",
       " 'Clown',\n",
       " 'Club',\n",
       " 'Coach',\n",
       " 'Cocktail',\n",
       " 'Cocktailtomaten',\n",
       " 'Comics',\n",
       " 'Creme',\n",
       " 'Crepes',\n",
       " 'Cyborg']"
      ]
     },
     "execution_count": 8,
     "metadata": {},
     "output_type": "execute_result"
    }
   ],
   "source": [
    "scharade.get_words_with_initial_letter(\"standard\", \"C\")"
   ]
  },
  {
   "cell_type": "markdown",
   "metadata": {},
   "source": [
    "get frequency of words for letters"
   ]
  },
  {
   "cell_type": "code",
   "execution_count": 9,
   "metadata": {},
   "outputs": [
    {
     "data": {
      "text/plain": [
       "{'A': 63,\n",
       " 'B': 75,\n",
       " 'C': 19,\n",
       " 'D': 39,\n",
       " 'E': 37,\n",
       " 'F': 53,\n",
       " 'G': 42,\n",
       " 'H': 53,\n",
       " 'I': 21,\n",
       " 'J': 13,\n",
       " 'K': 82,\n",
       " 'L': 48,\n",
       " 'M': 57,\n",
       " 'N': 24,\n",
       " 'O': 23,\n",
       " 'P': 74,\n",
       " 'Q': 21,\n",
       " 'R': 53,\n",
       " 'S': 142,\n",
       " 'T': 65,\n",
       " 'U': 19,\n",
       " 'V': 34,\n",
       " 'W': 51,\n",
       " 'X': 1,\n",
       " 'Y': 3,\n",
       " 'Z': 39}"
      ]
     },
     "execution_count": 9,
     "metadata": {},
     "output_type": "execute_result"
    }
   ],
   "source": [
    "scharade.get_frequency_of_initial_letter(\"standard\")"
   ]
  },
  {
   "cell_type": "markdown",
   "metadata": {},
   "source": [
    "get list of difficulties that appear in the sets combination after droping duplicated words (keep first)"
   ]
  },
  {
   "cell_type": "code",
   "execution_count": 10,
   "metadata": {},
   "outputs": [
    {
     "data": {
      "text/plain": [
       "[1, 2, 4, 8, 16]"
      ]
     },
     "execution_count": 10,
     "metadata": {},
     "output_type": "execute_result"
    }
   ],
   "source": [
    "scharade.get_difficulties_sets(\"standard\")"
   ]
  },
  {
   "cell_type": "markdown",
   "metadata": {},
   "source": [
    "### **4. step:** change data in *Scharade* class object **(does not change the data files)**"
   ]
  },
  {
   "cell_type": "markdown",
   "metadata": {},
   "source": [
    "add word"
   ]
  },
  {
   "cell_type": "code",
   "execution_count": 11,
   "metadata": {},
   "outputs": [],
   "source": [
    "scharade.add_word(\"standard\", word=\"Selbstbild\", difficulty=16)"
   ]
  },
  {
   "cell_type": "code",
   "execution_count": 12,
   "metadata": {},
   "outputs": [
    {
     "data": {
      "text/html": [
       "<div>\n",
       "<style scoped>\n",
       "    .dataframe tbody tr th:only-of-type {\n",
       "        vertical-align: middle;\n",
       "    }\n",
       "\n",
       "    .dataframe tbody tr th {\n",
       "        vertical-align: top;\n",
       "    }\n",
       "\n",
       "    .dataframe thead th {\n",
       "        text-align: right;\n",
       "    }\n",
       "</style>\n",
       "<table border=\"1\" class=\"dataframe\">\n",
       "  <thead>\n",
       "    <tr style=\"text-align: right;\">\n",
       "      <th></th>\n",
       "      <th>WORD</th>\n",
       "      <th>DIFFICULTY</th>\n",
       "    </tr>\n",
       "  </thead>\n",
       "  <tbody>\n",
       "    <tr>\n",
       "      <th>0</th>\n",
       "      <td>Aal</td>\n",
       "      <td>2</td>\n",
       "    </tr>\n",
       "    <tr>\n",
       "      <th>1</th>\n",
       "      <td>Abgase</td>\n",
       "      <td>2</td>\n",
       "    </tr>\n",
       "    <tr>\n",
       "      <th>2</th>\n",
       "      <td>Abitur</td>\n",
       "      <td>2</td>\n",
       "    </tr>\n",
       "    <tr>\n",
       "      <th>3</th>\n",
       "      <td>Ablauf</td>\n",
       "      <td>2</td>\n",
       "    </tr>\n",
       "    <tr>\n",
       "      <th>4</th>\n",
       "      <td>Ablufthaube</td>\n",
       "      <td>4</td>\n",
       "    </tr>\n",
       "    <tr>\n",
       "      <th>...</th>\n",
       "      <td>...</td>\n",
       "      <td>...</td>\n",
       "    </tr>\n",
       "    <tr>\n",
       "      <th>1286</th>\n",
       "      <td>übertreiben</td>\n",
       "      <td>1</td>\n",
       "    </tr>\n",
       "    <tr>\n",
       "      <th>1287</th>\n",
       "      <td>α-Strahlung</td>\n",
       "      <td>8</td>\n",
       "    </tr>\n",
       "    <tr>\n",
       "      <th>1288</th>\n",
       "      <td>β-Strahlung</td>\n",
       "      <td>8</td>\n",
       "    </tr>\n",
       "    <tr>\n",
       "      <th>1289</th>\n",
       "      <td>γ-Strahlung</td>\n",
       "      <td>8</td>\n",
       "    </tr>\n",
       "    <tr>\n",
       "      <th>1290</th>\n",
       "      <td>Selbstbild</td>\n",
       "      <td>16</td>\n",
       "    </tr>\n",
       "  </tbody>\n",
       "</table>\n",
       "<p>1291 rows × 2 columns</p>\n",
       "</div>"
      ],
      "text/plain": [
       "             WORD  DIFFICULTY\n",
       "0             Aal           2\n",
       "1          Abgase           2\n",
       "2          Abitur           2\n",
       "3          Ablauf           2\n",
       "4     Ablufthaube           4\n",
       "...           ...         ...\n",
       "1286  übertreiben           1\n",
       "1287  α-Strahlung           8\n",
       "1288  β-Strahlung           8\n",
       "1289  γ-Strahlung           8\n",
       "1290   Selbstbild          16\n",
       "\n",
       "[1291 rows x 2 columns]"
      ]
     },
     "execution_count": 12,
     "metadata": {},
     "output_type": "execute_result"
    }
   ],
   "source": [
    "scharade.get_df(\"standard\")"
   ]
  },
  {
   "cell_type": "markdown",
   "metadata": {},
   "source": [
    "change difficulty of existing word with **add_word** method"
   ]
  },
  {
   "cell_type": "code",
   "execution_count": 13,
   "metadata": {},
   "outputs": [
    {
     "name": "stdout",
     "output_type": "stream",
     "text": [
      "INFO: word already exists --> overwrite difficulty\n"
     ]
    }
   ],
   "source": [
    "scharade.add_word(\"standard\", word=\"Selbstbild\", difficulty=2)"
   ]
  },
  {
   "cell_type": "code",
   "execution_count": 14,
   "metadata": {},
   "outputs": [
    {
     "data": {
      "text/html": [
       "<div>\n",
       "<style scoped>\n",
       "    .dataframe tbody tr th:only-of-type {\n",
       "        vertical-align: middle;\n",
       "    }\n",
       "\n",
       "    .dataframe tbody tr th {\n",
       "        vertical-align: top;\n",
       "    }\n",
       "\n",
       "    .dataframe thead th {\n",
       "        text-align: right;\n",
       "    }\n",
       "</style>\n",
       "<table border=\"1\" class=\"dataframe\">\n",
       "  <thead>\n",
       "    <tr style=\"text-align: right;\">\n",
       "      <th></th>\n",
       "      <th>WORD</th>\n",
       "      <th>DIFFICULTY</th>\n",
       "    </tr>\n",
       "  </thead>\n",
       "  <tbody>\n",
       "    <tr>\n",
       "      <th>0</th>\n",
       "      <td>Aal</td>\n",
       "      <td>2</td>\n",
       "    </tr>\n",
       "    <tr>\n",
       "      <th>1</th>\n",
       "      <td>Abgase</td>\n",
       "      <td>2</td>\n",
       "    </tr>\n",
       "    <tr>\n",
       "      <th>2</th>\n",
       "      <td>Abitur</td>\n",
       "      <td>2</td>\n",
       "    </tr>\n",
       "    <tr>\n",
       "      <th>3</th>\n",
       "      <td>Ablauf</td>\n",
       "      <td>2</td>\n",
       "    </tr>\n",
       "    <tr>\n",
       "      <th>4</th>\n",
       "      <td>Ablufthaube</td>\n",
       "      <td>4</td>\n",
       "    </tr>\n",
       "    <tr>\n",
       "      <th>...</th>\n",
       "      <td>...</td>\n",
       "      <td>...</td>\n",
       "    </tr>\n",
       "    <tr>\n",
       "      <th>1286</th>\n",
       "      <td>übertreiben</td>\n",
       "      <td>1</td>\n",
       "    </tr>\n",
       "    <tr>\n",
       "      <th>1287</th>\n",
       "      <td>α-Strahlung</td>\n",
       "      <td>8</td>\n",
       "    </tr>\n",
       "    <tr>\n",
       "      <th>1288</th>\n",
       "      <td>β-Strahlung</td>\n",
       "      <td>8</td>\n",
       "    </tr>\n",
       "    <tr>\n",
       "      <th>1289</th>\n",
       "      <td>γ-Strahlung</td>\n",
       "      <td>8</td>\n",
       "    </tr>\n",
       "    <tr>\n",
       "      <th>1290</th>\n",
       "      <td>Selbstbild</td>\n",
       "      <td>2</td>\n",
       "    </tr>\n",
       "  </tbody>\n",
       "</table>\n",
       "<p>1291 rows × 2 columns</p>\n",
       "</div>"
      ],
      "text/plain": [
       "             WORD  DIFFICULTY\n",
       "0             Aal           2\n",
       "1          Abgase           2\n",
       "2          Abitur           2\n",
       "3          Ablauf           2\n",
       "4     Ablufthaube           4\n",
       "...           ...         ...\n",
       "1286  übertreiben           1\n",
       "1287  α-Strahlung           8\n",
       "1288  β-Strahlung           8\n",
       "1289  γ-Strahlung           8\n",
       "1290   Selbstbild           2\n",
       "\n",
       "[1291 rows x 2 columns]"
      ]
     },
     "execution_count": 14,
     "metadata": {},
     "output_type": "execute_result"
    }
   ],
   "source": [
    "scharade.get_df(\"standard\")"
   ]
  },
  {
   "cell_type": "markdown",
   "metadata": {},
   "source": [
    "delete words"
   ]
  },
  {
   "cell_type": "code",
   "execution_count": 15,
   "metadata": {},
   "outputs": [],
   "source": [
    "scharade.delete_word(\"standard\", \"Selbstbild\")"
   ]
  },
  {
   "cell_type": "code",
   "execution_count": 16,
   "metadata": {},
   "outputs": [
    {
     "data": {
      "text/html": [
       "<div>\n",
       "<style scoped>\n",
       "    .dataframe tbody tr th:only-of-type {\n",
       "        vertical-align: middle;\n",
       "    }\n",
       "\n",
       "    .dataframe tbody tr th {\n",
       "        vertical-align: top;\n",
       "    }\n",
       "\n",
       "    .dataframe thead th {\n",
       "        text-align: right;\n",
       "    }\n",
       "</style>\n",
       "<table border=\"1\" class=\"dataframe\">\n",
       "  <thead>\n",
       "    <tr style=\"text-align: right;\">\n",
       "      <th></th>\n",
       "      <th>WORD</th>\n",
       "      <th>DIFFICULTY</th>\n",
       "    </tr>\n",
       "  </thead>\n",
       "  <tbody>\n",
       "    <tr>\n",
       "      <th>0</th>\n",
       "      <td>Aal</td>\n",
       "      <td>2</td>\n",
       "    </tr>\n",
       "    <tr>\n",
       "      <th>1</th>\n",
       "      <td>Abgase</td>\n",
       "      <td>2</td>\n",
       "    </tr>\n",
       "    <tr>\n",
       "      <th>2</th>\n",
       "      <td>Abitur</td>\n",
       "      <td>2</td>\n",
       "    </tr>\n",
       "    <tr>\n",
       "      <th>3</th>\n",
       "      <td>Ablauf</td>\n",
       "      <td>2</td>\n",
       "    </tr>\n",
       "    <tr>\n",
       "      <th>4</th>\n",
       "      <td>Ablufthaube</td>\n",
       "      <td>4</td>\n",
       "    </tr>\n",
       "    <tr>\n",
       "      <th>...</th>\n",
       "      <td>...</td>\n",
       "      <td>...</td>\n",
       "    </tr>\n",
       "    <tr>\n",
       "      <th>1285</th>\n",
       "      <td>überschlagen</td>\n",
       "      <td>1</td>\n",
       "    </tr>\n",
       "    <tr>\n",
       "      <th>1286</th>\n",
       "      <td>übertreiben</td>\n",
       "      <td>1</td>\n",
       "    </tr>\n",
       "    <tr>\n",
       "      <th>1287</th>\n",
       "      <td>α-Strahlung</td>\n",
       "      <td>8</td>\n",
       "    </tr>\n",
       "    <tr>\n",
       "      <th>1288</th>\n",
       "      <td>β-Strahlung</td>\n",
       "      <td>8</td>\n",
       "    </tr>\n",
       "    <tr>\n",
       "      <th>1289</th>\n",
       "      <td>γ-Strahlung</td>\n",
       "      <td>8</td>\n",
       "    </tr>\n",
       "  </tbody>\n",
       "</table>\n",
       "<p>1290 rows × 2 columns</p>\n",
       "</div>"
      ],
      "text/plain": [
       "              WORD  DIFFICULTY\n",
       "0              Aal           2\n",
       "1           Abgase           2\n",
       "2           Abitur           2\n",
       "3           Ablauf           2\n",
       "4      Ablufthaube           4\n",
       "...            ...         ...\n",
       "1285  überschlagen           1\n",
       "1286   übertreiben           1\n",
       "1287   α-Strahlung           8\n",
       "1288   β-Strahlung           8\n",
       "1289   γ-Strahlung           8\n",
       "\n",
       "[1290 rows x 2 columns]"
      ]
     },
     "execution_count": 16,
     "metadata": {},
     "output_type": "execute_result"
    }
   ],
   "source": [
    "scharade.get_df(\"standard\")"
   ]
  },
  {
   "cell_type": "markdown",
   "metadata": {},
   "source": [
    "### **5. step:** update data files"
   ]
  },
  {
   "cell_type": "markdown",
   "metadata": {},
   "source": [
    "You can update the data files with the changes you made in the class object. Before doing so, look through the data report and check if the data is fine."
   ]
  },
  {
   "cell_type": "code",
   "execution_count": 17,
   "metadata": {},
   "outputs": [
    {
     "name": "stdout",
     "output_type": "stream",
     "text": [
      "Do you want to save the following data? (yes/no)\n",
      "data contains ['standard'] scharade sets\n",
      "    standard:\n",
      "        total words: 1290\n",
      "        words per difficulty:\n",
      "            diff 1: 276\n",
      "            diff 2: 503\n",
      "            diff 4: 367\n",
      "            diff 8: 131\n",
      "            diff 16: 13\n",
      "answer:\n",
      "process stopped\n"
     ]
    }
   ],
   "source": [
    "scharade.update_data_files()"
   ]
  },
  {
   "cell_type": "markdown",
   "metadata": {},
   "source": [
    "### **6 step:** generate round"
   ]
  },
  {
   "cell_type": "markdown",
   "metadata": {},
   "source": [
    "**sets** default is **\"all\"**, change it to use your prefered word set (list of sets or name of set)\n",
    "\n",
    "**min_difficulty** default is **\"min\"**, change it to avoid too easy words\n",
    "\n",
    "**max_difficulty** default is **\"max\"**, change it to avoid too hard words"
   ]
  },
  {
   "cell_type": "code",
   "execution_count": 18,
   "metadata": {},
   "outputs": [
    {
     "data": {
      "text/html": [
       "<div>\n",
       "<style scoped>\n",
       "    .dataframe tbody tr th:only-of-type {\n",
       "        vertical-align: middle;\n",
       "    }\n",
       "\n",
       "    .dataframe tbody tr th {\n",
       "        vertical-align: top;\n",
       "    }\n",
       "\n",
       "    .dataframe thead th {\n",
       "        text-align: right;\n",
       "    }\n",
       "</style>\n",
       "<table border=\"1\" class=\"dataframe\">\n",
       "  <thead>\n",
       "    <tr style=\"text-align: right;\">\n",
       "      <th></th>\n",
       "      <th>WORD</th>\n",
       "      <th>DIFFICULTY</th>\n",
       "    </tr>\n",
       "  </thead>\n",
       "  <tbody>\n",
       "    <tr>\n",
       "      <th>0</th>\n",
       "      <td>Pink</td>\n",
       "      <td>8</td>\n",
       "    </tr>\n",
       "    <tr>\n",
       "      <th>1</th>\n",
       "      <td>blas</td>\n",
       "      <td>2</td>\n",
       "    </tr>\n",
       "    <tr>\n",
       "      <th>2</th>\n",
       "      <td>Bewegung</td>\n",
       "      <td>2</td>\n",
       "    </tr>\n",
       "    <tr>\n",
       "      <th>3</th>\n",
       "      <td>Ferienbeginn</td>\n",
       "      <td>4</td>\n",
       "    </tr>\n",
       "    <tr>\n",
       "      <th>4</th>\n",
       "      <td>Internet</td>\n",
       "      <td>4</td>\n",
       "    </tr>\n",
       "    <tr>\n",
       "      <th>...</th>\n",
       "      <td>...</td>\n",
       "      <td>...</td>\n",
       "    </tr>\n",
       "    <tr>\n",
       "      <th>1285</th>\n",
       "      <td>Spießer</td>\n",
       "      <td>4</td>\n",
       "    </tr>\n",
       "    <tr>\n",
       "      <th>1286</th>\n",
       "      <td>Tanz</td>\n",
       "      <td>1</td>\n",
       "    </tr>\n",
       "    <tr>\n",
       "      <th>1287</th>\n",
       "      <td>Sand</td>\n",
       "      <td>2</td>\n",
       "    </tr>\n",
       "    <tr>\n",
       "      <th>1288</th>\n",
       "      <td>Quereinsteiger</td>\n",
       "      <td>2</td>\n",
       "    </tr>\n",
       "    <tr>\n",
       "      <th>1289</th>\n",
       "      <td>Zwickmühle</td>\n",
       "      <td>4</td>\n",
       "    </tr>\n",
       "  </tbody>\n",
       "</table>\n",
       "<p>1290 rows × 2 columns</p>\n",
       "</div>"
      ],
      "text/plain": [
       "                WORD DIFFICULTY\n",
       "0               Pink          8\n",
       "1               blas          2\n",
       "2           Bewegung          2\n",
       "3       Ferienbeginn          4\n",
       "4           Internet          4\n",
       "...              ...        ...\n",
       "1285         Spießer          4\n",
       "1286            Tanz          1\n",
       "1287            Sand          2\n",
       "1288  Quereinsteiger          2\n",
       "1289      Zwickmühle          4\n",
       "\n",
       "[1290 rows x 2 columns]"
      ]
     },
     "execution_count": 18,
     "metadata": {},
     "output_type": "execute_result"
    }
   ],
   "source": [
    "scharade.generate_round(sets=\"all\", min_difficulty=\"min\", max_difficulty=\"max\")"
   ]
  },
  {
   "cell_type": "code",
   "execution_count": 19,
   "metadata": {},
   "outputs": [
    {
     "data": {
      "text/html": [
       "<div>\n",
       "<style scoped>\n",
       "    .dataframe tbody tr th:only-of-type {\n",
       "        vertical-align: middle;\n",
       "    }\n",
       "\n",
       "    .dataframe tbody tr th {\n",
       "        vertical-align: top;\n",
       "    }\n",
       "\n",
       "    .dataframe thead th {\n",
       "        text-align: right;\n",
       "    }\n",
       "</style>\n",
       "<table border=\"1\" class=\"dataframe\">\n",
       "  <thead>\n",
       "    <tr style=\"text-align: right;\">\n",
       "      <th></th>\n",
       "      <th>WORD</th>\n",
       "      <th>DIFFICULTY</th>\n",
       "    </tr>\n",
       "  </thead>\n",
       "  <tbody>\n",
       "    <tr>\n",
       "      <th>0</th>\n",
       "      <td>Löwe</td>\n",
       "      <td>2</td>\n",
       "    </tr>\n",
       "    <tr>\n",
       "      <th>1</th>\n",
       "      <td>Kreide</td>\n",
       "      <td>2</td>\n",
       "    </tr>\n",
       "    <tr>\n",
       "      <th>2</th>\n",
       "      <td>Neandertaler</td>\n",
       "      <td>2</td>\n",
       "    </tr>\n",
       "    <tr>\n",
       "      <th>3</th>\n",
       "      <td>Krimie</td>\n",
       "      <td>2</td>\n",
       "    </tr>\n",
       "    <tr>\n",
       "      <th>4</th>\n",
       "      <td>Feige</td>\n",
       "      <td>4</td>\n",
       "    </tr>\n",
       "    <tr>\n",
       "      <th>...</th>\n",
       "      <td>...</td>\n",
       "      <td>...</td>\n",
       "    </tr>\n",
       "    <tr>\n",
       "      <th>865</th>\n",
       "      <td>Forschung</td>\n",
       "      <td>4</td>\n",
       "    </tr>\n",
       "    <tr>\n",
       "      <th>866</th>\n",
       "      <td>Klospülung</td>\n",
       "      <td>2</td>\n",
       "    </tr>\n",
       "    <tr>\n",
       "      <th>867</th>\n",
       "      <td>Teamleiter</td>\n",
       "      <td>2</td>\n",
       "    </tr>\n",
       "    <tr>\n",
       "      <th>868</th>\n",
       "      <td>Relativitätstheorie</td>\n",
       "      <td>4</td>\n",
       "    </tr>\n",
       "    <tr>\n",
       "      <th>869</th>\n",
       "      <td>Zwischenziel</td>\n",
       "      <td>2</td>\n",
       "    </tr>\n",
       "  </tbody>\n",
       "</table>\n",
       "<p>870 rows × 2 columns</p>\n",
       "</div>"
      ],
      "text/plain": [
       "                    WORD DIFFICULTY\n",
       "0                   Löwe          2\n",
       "1                 Kreide          2\n",
       "2           Neandertaler          2\n",
       "3                 Krimie          2\n",
       "4                  Feige          4\n",
       "..                   ...        ...\n",
       "865            Forschung          4\n",
       "866           Klospülung          2\n",
       "867           Teamleiter          2\n",
       "868  Relativitätstheorie          4\n",
       "869         Zwischenziel          2\n",
       "\n",
       "[870 rows x 2 columns]"
      ]
     },
     "execution_count": 19,
     "metadata": {},
     "output_type": "execute_result"
    }
   ],
   "source": [
    "scharade.generate_round(sets=\"standard\", min_difficulty=2, max_difficulty=4)"
   ]
  },
  {
   "cell_type": "code",
   "execution_count": null,
   "metadata": {},
   "outputs": [],
   "source": []
  }
 ],
 "metadata": {
  "kernelspec": {
   "display_name": "Python 3.9.7 ('matheUI')",
   "language": "python",
   "name": "python3"
  },
  "language_info": {
   "codemirror_mode": {
    "name": "ipython",
    "version": 3
   },
   "file_extension": ".py",
   "mimetype": "text/x-python",
   "name": "python",
   "nbconvert_exporter": "python",
   "pygments_lexer": "ipython3",
   "version": "3.9.7"
  },
  "orig_nbformat": 4,
  "vscode": {
   "interpreter": {
    "hash": "cddb13ca4df519c387c157a706d1fec0a138ef896c1d104b4410bf1686d29ec6"
   }
  }
 },
 "nbformat": 4,
 "nbformat_minor": 2
}
